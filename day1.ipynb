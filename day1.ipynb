{
 "cells": [
  {
   "cell_type": "code",
   "execution_count": null,
   "id": "d13c1afb",
   "metadata": {},
   "outputs": [],
   "source": [
    "#بسم الله الرحمن الرحيم"
   ]
  },
  {
   "cell_type": "code",
   "execution_count": 1,
   "id": "aa8e0575",
   "metadata": {},
   "outputs": [
    {
     "name": "stdout",
     "output_type": "stream",
     "text": [
      "Roaa Ibrahim\n",
      "22-12-2024\n"
     ]
    }
   ],
   "source": [
    "#1. Write your full name and today's date in separate lines of code.\n",
    "print(\"Roaa Ibrahim\")\n",
    "print(\"22-12-2024\")"
   ]
  },
  {
   "cell_type": "code",
   "execution_count": 2,
   "id": "b97fd7ed",
   "metadata": {},
   "outputs": [
    {
     "name": "stdout",
     "output_type": "stream",
     "text": [
      "\n",
      "I am signing up for Replit's 100 days of Python challenge!\n",
      "I will make sure to spend some time every day coding along, for a minimum of 10 minutes a day.\n",
      "I'll be using Replit, an amazing online IDE so I can do this from my phone wherever I happend to be. No excuses for not coding from the middle of a field!\n",
      "\n"
     ]
    }
   ],
   "source": [
    "#2. Copy this text below. See if you can do it with just the one print statement!\n",
    "#I am signing up for Replit's 100 days of Python challenge!\n",
    "#I will make sure to spend some time every day coding along, for a minimum of 10 minutes a day.\n",
    "#I'll be using Replit, an amazing online IDE so I can do this from my phone wherever I happend to be. No excuses for not coding from the middle of a field!\n",
    "print(\"\"\"\n",
    "I am signing up for Replit's 100 days of Python challenge!\n",
    "I will make sure to spend some time every day coding along, for a minimum of 10 minutes a day.\n",
    "I'll be using Replit, an amazing online IDE so I can do this from my phone wherever I happend to be. No excuses for not coding from the middle of a field!\n",
    "\"\"\")"
   ]
  },
  {
   "cell_type": "code",
   "execution_count": 3,
   "id": "7b17dc2f",
   "metadata": {},
   "outputs": [
    {
     "name": "stdout",
     "output_type": "stream",
     "text": [
      "I am feeling :)\n"
     ]
    }
   ],
   "source": [
    "#3. On the next line add I am feeling with an emoji of your choice to illustrate how you're feeling about the challenge.\n",
    "print(\"I am feeling :)\")"
   ]
  },
  {
   "cell_type": "code",
   "execution_count": 4,
   "id": "26efa6f0",
   "metadata": {},
   "outputs": [
    {
     "name": "stdout",
     "output_type": "stream",
     "text": [
      "You can follow my progress at replit.com/@roaaquest\n"
     ]
    }
   ],
   "source": [
    "#4. Add one more line to your output You can follow my progress at replit.com/@ and add in your Replit username. This will be a great way of maintaining accountability for yourself!\n",
    "print(\"You can follow my progress at replit.com/@roaaquest\")"
   ]
  }
 ],
 "metadata": {
  "kernelspec": {
   "display_name": "Python 3 (ipykernel)",
   "language": "python",
   "name": "python3"
  },
  "language_info": {
   "codemirror_mode": {
    "name": "ipython",
    "version": 3
   },
   "file_extension": ".py",
   "mimetype": "text/x-python",
   "name": "python",
   "nbconvert_exporter": "python",
   "pygments_lexer": "ipython3",
   "version": "3.9.13"
  }
 },
 "nbformat": 4,
 "nbformat_minor": 5
}
