{
 "cells": [
  {
   "cell_type": "code",
   "execution_count": null,
   "id": "0bbf623a",
   "metadata": {},
   "outputs": [],
   "source": [
    "#بسم الله الرحمن الرحيم"
   ]
  },
  {
   "cell_type": "code",
   "execution_count": 4,
   "id": "b57432f2",
   "metadata": {},
   "outputs": [
    {
     "name": "stdout",
     "output_type": "stream",
     "text": [
      "What is your name? Roaa Ibrahim\n",
      "What is your favorite type of books? EVERY USEFUL ONE\n"
     ]
    }
   ],
   "source": [
    "#1. Asks for the user's name, favorite food, favorite music and where they live (or you can create other questions!)\n",
    "#2. Store all of the answers in different variables.\n",
    "name = input(\"What is your name? \")\n",
    "fav_book = input(\"What is your favorite type of books? \")"
   ]
  },
  {
   "cell_type": "code",
   "execution_count": 6,
   "id": "8f9b5844",
   "metadata": {},
   "outputs": [
    {
     "name": "stdout",
     "output_type": "stream",
     "text": [
      "This is Roaa Ibrahim!\n",
      "I've been keen on reading since my early childhood..\n",
      "My favorite genre of books is EVERY USEFUL ONE\n",
      "And apparently, that led me to love AI as well, and consider the journey of learning a life-long one.\n",
      "\n"
     ]
    }
   ],
   "source": [
    "#3. Print out a full sentence that includes the user's favorite things.\n",
    "print(f\"\"\"This is {name}!\n",
    "I've been keen on reading since my early childhood..\n",
    "My favorite genre of books is {fav_book}\n",
    "And apparently, that led me to love AI as well, and consider the journey of learning a life-long one.\n",
    "\"\"\")"
   ]
  },
  {
   "cell_type": "code",
   "execution_count": null,
   "id": "efe3d094",
   "metadata": {},
   "outputs": [],
   "source": [
    "#4. Give them a positive affirmation at the end - tell them they rock at doing something!\n",
    "print(\"InshaAllah this user will achieve milstones in the field of AI!\")"
   ]
  }
 ],
 "metadata": {
  "kernelspec": {
   "display_name": "Python 3 (ipykernel)",
   "language": "python",
   "name": "python3"
  },
  "language_info": {
   "codemirror_mode": {
    "name": "ipython",
    "version": 3
   },
   "file_extension": ".py",
   "mimetype": "text/x-python",
   "name": "python",
   "nbconvert_exporter": "python",
   "pygments_lexer": "ipython3",
   "version": "3.9.13"
  }
 },
 "nbformat": 4,
 "nbformat_minor": 5
}
